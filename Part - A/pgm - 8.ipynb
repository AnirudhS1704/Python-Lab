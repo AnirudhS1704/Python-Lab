{
 "cells": [
  {
   "cell_type": "code",
   "execution_count": 8,
   "id": "c47feef2",
   "metadata": {},
   "outputs": [
    {
     "name": "stdout",
     "output_type": "stream",
     "text": [
      "sentences : 1\n",
      "words: 5\n",
      "characters: 22\n"
     ]
    }
   ],
   "source": [
    "def count_swc(file):\n",
    "    try:\n",
    "        with open(file, 'r') as f:\n",
    "            contents = f.read()\n",
    "            sentences = contents.count('.') + contents.count('!') + contents.count('?')\n",
    "            words = len(contents.split())\n",
    "            characters = len(contents)\n",
    "            print(f\"sentences : {sentences}\\nwords: {words}\\ncharacters: {characters}\")\n",
    "    except FileNotFoundError:\n",
    "        return None\n",
    "            \n",
    "count_swc('test.txt')"
   ]
  },
  {
   "cell_type": "code",
   "execution_count": 13,
   "id": "374f9be2",
   "metadata": {},
   "outputs": [
    {
     "name": "stdout",
     "output_type": "stream",
     "text": [
      "1\n"
     ]
    }
   ],
   "source": [
    "def copy_lc(file):\n",
    "    with open(file, 'r') as f1, open('target.txt', 'w') as f2:\n",
    "        try:\n",
    "            lines=0\n",
    "            for line in f1:\n",
    "                lc = ''.join(c.lower() for c in line if c.isalpha())\n",
    "                f2.write(lc + \"\\n\")\n",
    "                lines += 1\n",
    "            return lines\n",
    "        except FileNotFoundError:\n",
    "            return None\n",
    "    \n",
    "lines = copy_lc('test.txt')\n",
    "if lines != None:\n",
    "    print(lines)\n",
    "else:\n",
    "    print(\"Nothing copied\")"
   ]
  },
  {
   "cell_type": "code",
   "execution_count": 16,
   "id": "bc9e8aae",
   "metadata": {},
   "outputs": [
    {
     "name": "stdout",
     "output_type": "stream",
     "text": [
      "John\t101\tComputer Science\n",
      "Bob\t103\tComputer Science\n"
     ]
    }
   ],
   "source": [
    "class Student:\n",
    "    def __init__(self, name, roll_number, branch):\n",
    "        self.name = name\n",
    "        self.roll_number = roll_number\n",
    "        self.branch = branch\n",
    "        \n",
    "    def __str__(self):\n",
    "        return f\"{self.name}\\t{self.roll_number}\\t{self.branch}\"\n",
    "\n",
    "students = [\n",
    "    Student(\"John\", 101, \"Computer Science\"),\n",
    "    Student(\"Alice\", 102, \"Electrical Engineering\"),\n",
    "    Student(\"Bob\", 103, \"Computer Science\"),\n",
    "]\n",
    "\n",
    "branch = \"Computer Science\"\n",
    "for student in students:\n",
    "    if student.branch == branch:\n",
    "        print(student)\n",
    "\n"
   ]
  }
 ],
 "metadata": {
  "kernelspec": {
   "display_name": "Python 3 (ipykernel)",
   "language": "python",
   "name": "python3"
  },
  "language_info": {
   "codemirror_mode": {
    "name": "ipython",
    "version": 3
   },
   "file_extension": ".py",
   "mimetype": "text/x-python",
   "name": "python",
   "nbconvert_exporter": "python",
   "pygments_lexer": "ipython3",
   "version": "3.11.4"
  }
 },
 "nbformat": 4,
 "nbformat_minor": 5
}
