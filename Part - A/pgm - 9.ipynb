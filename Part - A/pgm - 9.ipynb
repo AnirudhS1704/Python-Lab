{
 "cells": [
  {
   "cell_type": "code",
   "execution_count": 7,
   "id": "ba119a59",
   "metadata": {},
   "outputs": [
    {
     "data": {
      "text/plain": [
       "True"
      ]
     },
     "execution_count": 7,
     "metadata": {},
     "output_type": "execute_result"
    }
   ],
   "source": [
    "s1 = 'abba'\n",
    "s2 = 'abab'\n",
    "def isSymmetric(s:str) -> bool:\n",
    "    if s[: len(s) // 2] == s[len(s) // 2 :]:\n",
    "        return True\n",
    "    return False\n",
    "\n",
    "isSymmetric(s2)\n",
    "\n",
    "def isPalindrome(s:str) -> bool:\n",
    "    if ''.join(reversed(s)) == s:\n",
    "        return True\n",
    "    return False\n",
    "\n",
    "isPalindrome(s1)"
   ]
  },
  {
   "cell_type": "code",
   "execution_count": 8,
   "id": "93c4f62b",
   "metadata": {},
   "outputs": [
    {
     "name": "stdout",
     "output_type": "stream",
     "text": [
      "3\n",
      "lphant\n"
     ]
    }
   ],
   "source": [
    "s = 'elephant'\n",
    "\n",
    "v = 0\n",
    "s1 = ''\n",
    "for i in s:\n",
    "    if i in \"aeiou\":\n",
    "        v += 1\n",
    "    if i != 'e' and i != 's':\n",
    "        s1 += i\n",
    "        \n",
    "print(v)\n",
    "print(s1)"
   ]
  },
  {
   "cell_type": "code",
   "execution_count": 12,
   "id": "1e04d0e9",
   "metadata": {},
   "outputs": [
    {
     "name": "stdout",
     "output_type": "stream",
     "text": [
      "Enter sentence a b c\n"
     ]
    },
    {
     "data": {
      "text/plain": [
       "'b c'"
      ]
     },
     "execution_count": 12,
     "metadata": {},
     "output_type": "execute_result"
    }
   ],
   "source": [
    "s1 = input('Enter sentence ').split()\n",
    "s1 = s1[1 : ]\n",
    "\n",
    "s2=\"\"\n",
    "for i in s1:\n",
    "    s2 += i + ' '\n",
    "    \n",
    "s2.strip()"
   ]
  },
  {
   "cell_type": "code",
   "execution_count": 14,
   "id": "7982bc5b",
   "metadata": {},
   "outputs": [
    {
     "name": "stdout",
     "output_type": "stream",
     "text": [
      "{'c': 3}\n",
      "{'f': 1}\n",
      "{'b': 3}\n",
      "{'e': 2}\n",
      "{'a': 2}\n"
     ]
    }
   ],
   "source": [
    "s2 = 'aabceefccbb'\n",
    "s3 = set(s2)\n",
    "\n",
    "for i in s3:\n",
    "    print({i : s2.count(i)})"
   ]
  }
 ],
 "metadata": {
  "kernelspec": {
   "display_name": "Python 3 (ipykernel)",
   "language": "python",
   "name": "python3"
  },
  "language_info": {
   "codemirror_mode": {
    "name": "ipython",
    "version": 3
   },
   "file_extension": ".py",
   "mimetype": "text/x-python",
   "name": "python",
   "nbconvert_exporter": "python",
   "pygments_lexer": "ipython3",
   "version": "3.11.4"
  }
 },
 "nbformat": 4,
 "nbformat_minor": 5
}
