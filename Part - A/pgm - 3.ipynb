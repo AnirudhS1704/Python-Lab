{
 "cells": [
  {
   "cell_type": "code",
   "execution_count": 3,
   "id": "673ce590",
   "metadata": {},
   "outputs": [
    {
     "name": "stdout",
     "output_type": "stream",
     "text": [
      "Enter list of numbers5 20 10 100 24 48\n",
      "24\n",
      "48\n"
     ]
    }
   ],
   "source": [
    "l = [int(i) for i in input('Enter list of numbers').split()]\n",
    "x = 4\n",
    "y = 5\n",
    "for i in l:\n",
    "    if i % x == 0 and i % y != 0:\n",
    "        print(i)"
   ]
  },
  {
   "cell_type": "code",
   "execution_count": 11,
   "id": "7a0970a2",
   "metadata": {},
   "outputs": [
    {
     "name": "stdout",
     "output_type": "stream",
     "text": [
      "Enter list of numbers 1 2 3 4 5\n",
      "9\n",
      "6\n"
     ]
    }
   ],
   "source": [
    "l1 = [int(i) for i in input('Enter list of numbers ').split()]\n",
    "odd = even = 0\n",
    "for i in l1:\n",
    "    if i % 2 == 0:\n",
    "        even += i\n",
    "    else:\n",
    "        odd += i\n",
    "        \n",
    "print(odd)\n",
    "print(even)"
   ]
  },
  {
   "cell_type": "code",
   "execution_count": 14,
   "id": "f5cf3655",
   "metadata": {},
   "outputs": [
    {
     "name": "stdout",
     "output_type": "stream",
     "text": [
      "Enter list of numbers 1 2 3 4\n",
      "2\n",
      "4\n"
     ]
    }
   ],
   "source": [
    "l2 = [int(i) for i in input('Enter list of numbers ').split()]\n",
    "odd = even = 0\n",
    "for i in range(len(l2)):\n",
    "    if i % 2 != 0:\n",
    "        print(l2[i])\n"
   ]
  },
  {
   "cell_type": "code",
   "execution_count": 15,
   "id": "a2b2f450",
   "metadata": {},
   "outputs": [
    {
     "name": "stdout",
     "output_type": "stream",
     "text": [
      "Enter list of numbers 1 2 3 4 3 1 1\n",
      "{1, 2, 3, 4}\n"
     ]
    }
   ],
   "source": [
    "l1 = [int(i) for i in input('Enter list of numbers ').split()]\n",
    "print(set(l1))"
   ]
  }
 ],
 "metadata": {
  "kernelspec": {
   "display_name": "Python 3 (ipykernel)",
   "language": "python",
   "name": "python3"
  },
  "language_info": {
   "codemirror_mode": {
    "name": "ipython",
    "version": 3
   },
   "file_extension": ".py",
   "mimetype": "text/x-python",
   "name": "python",
   "nbconvert_exporter": "python",
   "pygments_lexer": "ipython3",
   "version": "3.11.4"
  }
 },
 "nbformat": 4,
 "nbformat_minor": 5
}
