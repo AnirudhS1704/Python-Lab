{
 "cells": [
  {
   "cell_type": "code",
   "execution_count": 5,
   "id": "c0f16637",
   "metadata": {},
   "outputs": [
    {
     "name": "stdout",
     "output_type": "stream",
     "text": [
      "Enter coordinate 1 ->20 30\n",
      "Enter coordinate 2 ->10 10\n"
     ]
    },
    {
     "data": {
      "text/plain": [
       "22.360679774997898"
      ]
     },
     "execution_count": 5,
     "metadata": {},
     "output_type": "execute_result"
    }
   ],
   "source": [
    "x1, y1 = [int(i) for i in input('Enter coordinate 1 ->').split()]\n",
    "x2, y2 = [int(i) for i in input('Enter coordinate 2 ->').split()]\n",
    "\n",
    "dist = ((x1 - x2) ** 2 + (y1 - y2) ** 2) ** 0.5\n",
    "dist"
   ]
  },
  {
   "cell_type": "code",
   "execution_count": 10,
   "id": "5c544585",
   "metadata": {},
   "outputs": [
    {
     "name": "stdout",
     "output_type": "stream",
     "text": [
      "Enter units320\n"
     ]
    },
    {
     "data": {
      "text/plain": [
       "1190.0"
      ]
     },
     "execution_count": 10,
     "metadata": {},
     "output_type": "execute_result"
    }
   ],
   "source": [
    "n = int(input('Enter units'))\n",
    "price = 0\n",
    "\n",
    "if n > 350:\n",
    "        price += 1500\n",
    "        n = 350\n",
    "if n > 300:\n",
    "        price += (n - 300) * 7 + 100\n",
    "        n = 300\n",
    "if n > 200:\n",
    "        price += (n - 200) * 4 + 75\n",
    "        n = 200\n",
    "if n > 100:\n",
    "        price += (n - 100) * 2.5 + 50\n",
    "        n = 100\n",
    "if n > 0:\n",
    "        price += (n) * 1.5 + 25\n",
    "        \n",
    "price"
   ]
  }
 ],
 "metadata": {
  "kernelspec": {
   "display_name": "Python 3 (ipykernel)",
   "language": "python",
   "name": "python3"
  },
  "language_info": {
   "codemirror_mode": {
    "name": "ipython",
    "version": 3
   },
   "file_extension": ".py",
   "mimetype": "text/x-python",
   "name": "python",
   "nbconvert_exporter": "python",
   "pygments_lexer": "ipython3",
   "version": "3.11.4"
  }
 },
 "nbformat": 4,
 "nbformat_minor": 5
}
