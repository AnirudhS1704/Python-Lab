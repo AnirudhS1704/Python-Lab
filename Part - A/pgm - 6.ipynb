{
 "cells": [
  {
   "cell_type": "code",
   "execution_count": 8,
   "id": "c0075a68",
   "metadata": {},
   "outputs": [
    {
     "name": "stdout",
     "output_type": "stream",
     "text": [
      "Model Name: Virtus\n",
      "Color: Red\n",
      "Price: 1600000\n",
      "Top Speed: 202\n"
     ]
    }
   ],
   "source": [
    "class Car:\n",
    "    def __init__(self, model_name, color, price, top_speed):\n",
    "        self.model_name = model_name\n",
    "        self.color = color  \n",
    "        self.price = price        \n",
    "        self.top_speed = top_speed\n",
    "        \n",
    "    def __str__(self):\n",
    "        return f\"Model Name: {self.model_name}\\nColor: {self.color}\\nPrice: {self.price}\\nTop Speed: {self.top_speed}\"\n",
    "    \n",
    "car1 = Car(\"Virtus\", \"Red\", 1600000, 202)\n",
    "print(car1)"
   ]
  },
  {
   "cell_type": "code",
   "execution_count": 12,
   "id": "abe641af",
   "metadata": {},
   "outputs": [
    {
     "name": "stdout",
     "output_type": "stream",
     "text": [
      "Enter model name Slavia\n",
      "Enter color Yellow\n",
      "Enter price 1600000\n",
      "Enter top speed 202\n",
      "Model Name: Slavia\n",
      "Color: Yellow\n",
      "Price: 1600000\n",
      "Top Speed: 202\n"
     ]
    }
   ],
   "source": [
    "class CarW:\n",
    "    \n",
    "    def getDetails(self):\n",
    "        self.model_name = input(\"Enter model name \")\n",
    "        self.color = input(\"Enter color \")  \n",
    "        self.price = input(\"Enter price \")        \n",
    "        self.top_speed = input(\"Enter top speed \")\n",
    "        \n",
    "    def __str__(self):\n",
    "        return f\"Model Name: {self.model_name}\\nColor: {self.color}\\nPrice: {self.price}\\nTop Speed: {self.top_speed}\"\n",
    "    \n",
    "car2 = CarW()\n",
    "car2.getDetails()\n",
    "print(car2)"
   ]
  },
  {
   "cell_type": "code",
   "execution_count": 16,
   "id": "77834e5a",
   "metadata": {},
   "outputs": [
    {
     "name": "stdout",
     "output_type": "stream",
     "text": [
      "Branch name: SBI\n",
      "Number of customers: 20\n",
      "IFSC: 100\n",
      "Branch name: KGB\n",
      "Number of customers: 12\n",
      "IFSC: 101\n"
     ]
    }
   ],
   "source": [
    "class Bank:\n",
    "    def __init__(self, branch_name, number_cust):\n",
    "        self.branch_name = branch_name\n",
    "        self.number_cust = number_cust\n",
    "        \n",
    "    def display(self):\n",
    "        print(f\"Branch name: {self.branch_name}\")\n",
    "        print(f\"Number of customers: {self.number_cust}\")\n",
    "        \n",
    "class Govt_Bank(Bank):\n",
    "    def __init__(self, branch_name, number_cust, ifsc):\n",
    "        super().__init__(branch_name, number_cust)\n",
    "        self.ifsc = ifsc\n",
    "        \n",
    "    def display(self):\n",
    "        print(f\"Branch name: {self.branch_name}\")\n",
    "        print(f\"Number of customers: {self.number_cust}\")\n",
    "        print(f\"IFSC: {self.ifsc}\")\n",
    "        \n",
    "class Private_Bank(Bank):\n",
    "    def __init__(self, branch_name, number_cust, ifsc):\n",
    "        super().__init__(branch_name, number_cust)\n",
    "        self.ifsc = ifsc\n",
    "        \n",
    "    def display(self):\n",
    "        print(f\"Branch name: {self.branch_name}\")\n",
    "        print(f\"Number of customers: {self.number_cust}\")\n",
    "        print(f\"IFSC: {self.ifsc}\")\n",
    "        \n",
    "bank1 = Govt_Bank(\"SBI\", 20, 100)\n",
    "bank1.display()\n",
    "\n",
    "bank2 = Private_Bank(\"KGB\", 12, 101)\n",
    "bank2.display()"
   ]
  }
 ],
 "metadata": {
  "kernelspec": {
   "display_name": "Python 3 (ipykernel)",
   "language": "python",
   "name": "python3"
  },
  "language_info": {
   "codemirror_mode": {
    "name": "ipython",
    "version": 3
   },
   "file_extension": ".py",
   "mimetype": "text/x-python",
   "name": "python",
   "nbconvert_exporter": "python",
   "pygments_lexer": "ipython3",
   "version": "3.11.4"
  }
 },
 "nbformat": 4,
 "nbformat_minor": 5
}
