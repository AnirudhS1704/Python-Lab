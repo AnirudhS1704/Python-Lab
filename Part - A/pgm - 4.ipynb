{
 "cells": [
  {
   "cell_type": "code",
   "execution_count": 2,
   "id": "6fbafcc2",
   "metadata": {},
   "outputs": [
    {
     "name": "stdout",
     "output_type": "stream",
     "text": [
      "(6, 24, 12)\n",
      "(60, 12, 6)\n"
     ]
    }
   ],
   "source": [
    "t = [(6, 24, 12), (60, 12, 6), (12, 18, 21)]\n",
    "k = 6\n",
    "for l in t:\n",
    "    cnt = 0\n",
    "    for i in l:\n",
    "        if i % k == 0:\n",
    "            cnt += 1\n",
    "    if cnt == len(l):\n",
    "        print(l)"
   ]
  },
  {
   "cell_type": "code",
   "execution_count": 12,
   "id": "190112d9",
   "metadata": {},
   "outputs": [
    {
     "name": "stdout",
     "output_type": "stream",
     "text": [
      "('GFG', 'IS', 'BEST')\n"
     ]
    }
   ],
   "source": [
    "t1 = [(\"GFG\", \"IS\", \"BEST\"), (\"GFg\", \"AVERAGE\"), (\"GfG\",), (\"Gfg\", \"CS\")]\n",
    "for l in t1:\n",
    "    cnt = 0\n",
    "    for s in l:\n",
    "        if s.isupper():\n",
    "            flag = True\n",
    "        else:\n",
    "            flag = False\n",
    "            break\n",
    "                \n",
    "    if flag == True:\n",
    "        print(l)"
   ]
  },
  {
   "cell_type": "code",
   "execution_count": 16,
   "id": "fded5d99",
   "metadata": {},
   "outputs": [
    {
     "name": "stdout",
     "output_type": "stream",
     "text": [
      "{'a': 2}\n",
      "{'b': 3}\n"
     ]
    }
   ],
   "source": [
    "t2 = ('a', 'a', 'c', 'b', 'd')\n",
    "l2 = ['a', 'b']\n",
    "\n",
    "count = 0\n",
    "for item in l2:\n",
    "    count += t2.count(item)\n",
    "    print({item: count})\n",
    "        "
   ]
  }
 ],
 "metadata": {
  "kernelspec": {
   "display_name": "Python 3 (ipykernel)",
   "language": "python",
   "name": "python3"
  },
  "language_info": {
   "codemirror_mode": {
    "name": "ipython",
    "version": 3
   },
   "file_extension": ".py",
   "mimetype": "text/x-python",
   "name": "python",
   "nbconvert_exporter": "python",
   "pygments_lexer": "ipython3",
   "version": "3.11.4"
  }
 },
 "nbformat": 4,
 "nbformat_minor": 5
}
