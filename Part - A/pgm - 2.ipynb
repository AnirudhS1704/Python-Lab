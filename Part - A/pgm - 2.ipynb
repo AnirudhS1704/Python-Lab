{
 "cells": [
  {
   "cell_type": "code",
   "execution_count": 5,
   "id": "ae9f77e3",
   "metadata": {},
   "outputs": [
    {
     "name": "stdout",
     "output_type": "stream",
     "text": [
      "Enter emailabc.g.c  \n",
      "1\n",
      "6\n",
      "0\n",
      "2\n"
     ]
    }
   ],
   "source": [
    "s = input('Enter email')\n",
    "\n",
    "v = c = d = w = 0\n",
    "for i in s:\n",
    "    if i in 'aeiou':\n",
    "        v += 1\n",
    "    elif i in \"123456789\":\n",
    "        d += 1\n",
    "    elif i in ' ':\n",
    "        w += 1\n",
    "    else:\n",
    "        c += 1\n",
    "        \n",
    "print(v)\n",
    "print(c)\n",
    "print(d)\n",
    "print(w)"
   ]
  }
 ],
 "metadata": {
  "kernelspec": {
   "display_name": "Python 3 (ipykernel)",
   "language": "python",
   "name": "python3"
  },
  "language_info": {
   "codemirror_mode": {
    "name": "ipython",
    "version": 3
   },
   "file_extension": ".py",
   "mimetype": "text/x-python",
   "name": "python",
   "nbconvert_exporter": "python",
   "pygments_lexer": "ipython3",
   "version": "3.11.4"
  }
 },
 "nbformat": 4,
 "nbformat_minor": 5
}
