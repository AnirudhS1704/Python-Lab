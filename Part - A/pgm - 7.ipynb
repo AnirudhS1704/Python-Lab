{
 "cells": [
  {
   "cell_type": "code",
   "execution_count": 12,
   "id": "be3c40d5",
   "metadata": {},
   "outputs": [
    {
     "name": "stdout",
     "output_type": "stream",
     "text": [
      "27 : 03 : 04\n",
      "14 : 18 : 40\n"
     ]
    }
   ],
   "source": [
    "class Time:\n",
    "    def __init__(self, hours, mins, sec):\n",
    "        self.hours = hours\n",
    "        self.mins = mins\n",
    "        self.sec = sec\n",
    "        \n",
    "    def __str__(self):\n",
    "        return f\"{self.hours:02} : {self.mins:02} : {self.sec:02}\"\n",
    "    \n",
    "    def __add__(self, other):\n",
    "        total_secs1 = self.hours * 3600 + self.mins * 60 + self.sec\n",
    "        total_secs2 = other.hours * 3600 + other.mins * 60 + other.sec    \n",
    "        \n",
    "        total_secs = total_secs1 + total_secs2\n",
    "        \n",
    "        hrs = total_secs // 3600\n",
    "        total_secs = total_secs % 3600\n",
    "        minutes = total_secs // 60\n",
    "        seconds = total_secs % 60\n",
    "        \n",
    "        return Time(hrs, minutes, seconds)\n",
    "        \n",
    "    def __sub__(self, other):\n",
    "        total_secs1 = self.hours * 3600 + self.mins * 60 + self.sec\n",
    "        total_secs2 = other.hours * 3600 + other.mins * 60 + other.sec    \n",
    "        \n",
    "        total_secs = abs(total_secs1 - total_secs2)\n",
    "            \n",
    "        hrs = total_secs // 3600\n",
    "        total_secs = total_secs % 3600\n",
    "        minutes = total_secs // 60\n",
    "        seconds = total_secs % 60\n",
    "        \n",
    "        return Time(hrs, minutes, seconds)\n",
    "        \n",
    "time1 = Time(20, 40, 52)\n",
    "time2 = Time(6, 22, 12)\n",
    "\n",
    "print(time1 + time2)\n",
    "print(time1 - time2)"
   ]
  },
  {
   "cell_type": "code",
   "execution_count": 15,
   "id": "c3fc654b",
   "metadata": {},
   "outputs": [
    {
     "name": "stdout",
     "output_type": "stream",
     "text": [
      "02 : 05 : 45\n",
      "00 : 35 : 15\n"
     ]
    }
   ],
   "source": [
    "time1 = Time(1, 20, 30)\n",
    "time2 = Time(0, 45, 15)\n",
    "\n",
    "print(time1 + time2)\n",
    "print(time1 - time2)"
   ]
  }
 ],
 "metadata": {
  "kernelspec": {
   "display_name": "Python 3 (ipykernel)",
   "language": "python",
   "name": "python3"
  },
  "language_info": {
   "codemirror_mode": {
    "name": "ipython",
    "version": 3
   },
   "file_extension": ".py",
   "mimetype": "text/x-python",
   "name": "python",
   "nbconvert_exporter": "python",
   "pygments_lexer": "ipython3",
   "version": "3.11.4"
  }
 },
 "nbformat": 4,
 "nbformat_minor": 5
}
